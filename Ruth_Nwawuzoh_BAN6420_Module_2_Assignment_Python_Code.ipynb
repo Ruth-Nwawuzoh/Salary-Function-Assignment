{
 "cells": [
  {
   "cell_type": "markdown",
   "id": "873e1d4a-ed35-4f18-bee8-4a6ed6965b5c",
   "metadata": {},
   "source": [
    "## Importing the Salary Data"
   ]
  },
  {
   "cell_type": "code",
   "execution_count": 11,
   "id": "42ea669f-27e1-4eeb-a926-dbab3e52e497",
   "metadata": {},
   "outputs": [],
   "source": [
    "%matplotlib inline\n",
    "\n",
    "import pandas as pd\n",
    "import numpy as np\n",
    "import os\n",
    "import zipfile"
   ]
  },
  {
   "cell_type": "code",
   "execution_count": 12,
   "id": "fe92f583-a2e5-4d16-82d4-9ff36cd8b9cc",
   "metadata": {},
   "outputs": [],
   "source": [
    "file_path = 'Total.csv'\n",
    "df = pd.read_csv(file_path, low_memory=False)"
   ]
  },
  {
   "cell_type": "code",
   "execution_count": 13,
   "id": "ac7a3589-5f8a-4d6c-b7fe-40db1c457f15",
   "metadata": {},
   "outputs": [
    {
     "data": {
      "text/plain": [
       "(312882, 9)"
      ]
     },
     "execution_count": 13,
     "metadata": {},
     "output_type": "execute_result"
    }
   ],
   "source": [
    "df.shape"
   ]
  },
  {
   "cell_type": "code",
   "execution_count": 14,
   "id": "b4afbe94-2f2e-4ae9-a93c-405026697341",
   "metadata": {},
   "outputs": [
    {
     "name": "stdout",
     "output_type": "stream",
     "text": [
      "<class 'pandas.core.frame.DataFrame'>\n",
      "RangeIndex: 312882 entries, 0 to 312881\n",
      "Data columns (total 9 columns):\n",
      " #   Column            Non-Null Count   Dtype  \n",
      "---  ------            --------------   -----  \n",
      " 0   EmployeeName      312882 non-null  object \n",
      " 1   JobTitle          312882 non-null  object \n",
      " 2   BasePay           312882 non-null  object \n",
      " 3   OvertimePay       312882 non-null  object \n",
      " 4   OtherPay          312882 non-null  object \n",
      " 5   Benefits          312882 non-null  object \n",
      " 6   TotalPay          312882 non-null  float64\n",
      " 7   TotalPayBenefits  312882 non-null  float64\n",
      " 8   Year              312882 non-null  int64  \n",
      "dtypes: float64(2), int64(1), object(6)\n",
      "memory usage: 21.5+ MB\n"
     ]
    }
   ],
   "source": [
    "df.info()"
   ]
  },
  {
   "cell_type": "code",
   "execution_count": 15,
   "id": "2ee6917e-55a3-49f5-a093-7e1df6f026bf",
   "metadata": {},
   "outputs": [
    {
     "data": {
      "text/html": [
       "<div>\n",
       "<style scoped>\n",
       "    .dataframe tbody tr th:only-of-type {\n",
       "        vertical-align: middle;\n",
       "    }\n",
       "\n",
       "    .dataframe tbody tr th {\n",
       "        vertical-align: top;\n",
       "    }\n",
       "\n",
       "    .dataframe thead th {\n",
       "        text-align: right;\n",
       "    }\n",
       "</style>\n",
       "<table border=\"1\" class=\"dataframe\">\n",
       "  <thead>\n",
       "    <tr style=\"text-align: right;\">\n",
       "      <th></th>\n",
       "      <th>EmployeeName</th>\n",
       "      <th>JobTitle</th>\n",
       "      <th>BasePay</th>\n",
       "      <th>OvertimePay</th>\n",
       "      <th>OtherPay</th>\n",
       "      <th>Benefits</th>\n",
       "      <th>TotalPay</th>\n",
       "      <th>TotalPayBenefits</th>\n",
       "      <th>Year</th>\n",
       "    </tr>\n",
       "  </thead>\n",
       "  <tbody>\n",
       "    <tr>\n",
       "      <th>0</th>\n",
       "      <td>NATHANIEL FORD</td>\n",
       "      <td>GENERAL MANAGER-METROPOLITAN TRANSIT AUTHORITY</td>\n",
       "      <td>167411.18</td>\n",
       "      <td>0.00</td>\n",
       "      <td>400184.25</td>\n",
       "      <td>Not Provided</td>\n",
       "      <td>567595.43</td>\n",
       "      <td>567595.43</td>\n",
       "      <td>2011</td>\n",
       "    </tr>\n",
       "    <tr>\n",
       "      <th>1</th>\n",
       "      <td>GARY JIMENEZ</td>\n",
       "      <td>CAPTAIN III (POLICE DEPARTMENT)</td>\n",
       "      <td>155966.02</td>\n",
       "      <td>245131.88</td>\n",
       "      <td>137811.38</td>\n",
       "      <td>Not Provided</td>\n",
       "      <td>538909.28</td>\n",
       "      <td>538909.28</td>\n",
       "      <td>2011</td>\n",
       "    </tr>\n",
       "    <tr>\n",
       "      <th>2</th>\n",
       "      <td>ALBERT PARDINI</td>\n",
       "      <td>CAPTAIN III (POLICE DEPARTMENT)</td>\n",
       "      <td>212739.13</td>\n",
       "      <td>106088.18</td>\n",
       "      <td>16452.60</td>\n",
       "      <td>Not Provided</td>\n",
       "      <td>335279.91</td>\n",
       "      <td>335279.91</td>\n",
       "      <td>2011</td>\n",
       "    </tr>\n",
       "    <tr>\n",
       "      <th>3</th>\n",
       "      <td>CHRISTOPHER CHONG</td>\n",
       "      <td>WIRE ROPE CABLE MAINTENANCE MECHANIC</td>\n",
       "      <td>77916.00</td>\n",
       "      <td>56120.71</td>\n",
       "      <td>198306.90</td>\n",
       "      <td>Not Provided</td>\n",
       "      <td>332343.61</td>\n",
       "      <td>332343.61</td>\n",
       "      <td>2011</td>\n",
       "    </tr>\n",
       "    <tr>\n",
       "      <th>4</th>\n",
       "      <td>PATRICK GARDNER</td>\n",
       "      <td>DEPUTY CHIEF OF DEPARTMENT,(FIRE DEPARTMENT)</td>\n",
       "      <td>134401.60</td>\n",
       "      <td>9737.00</td>\n",
       "      <td>182234.59</td>\n",
       "      <td>Not Provided</td>\n",
       "      <td>326373.19</td>\n",
       "      <td>326373.19</td>\n",
       "      <td>2011</td>\n",
       "    </tr>\n",
       "  </tbody>\n",
       "</table>\n",
       "</div>"
      ],
      "text/plain": [
       "        EmployeeName                                        JobTitle  \\\n",
       "0     NATHANIEL FORD  GENERAL MANAGER-METROPOLITAN TRANSIT AUTHORITY   \n",
       "1       GARY JIMENEZ                 CAPTAIN III (POLICE DEPARTMENT)   \n",
       "2     ALBERT PARDINI                 CAPTAIN III (POLICE DEPARTMENT)   \n",
       "3  CHRISTOPHER CHONG            WIRE ROPE CABLE MAINTENANCE MECHANIC   \n",
       "4    PATRICK GARDNER    DEPUTY CHIEF OF DEPARTMENT,(FIRE DEPARTMENT)   \n",
       "\n",
       "     BasePay OvertimePay   OtherPay      Benefits   TotalPay  \\\n",
       "0  167411.18        0.00  400184.25  Not Provided  567595.43   \n",
       "1  155966.02   245131.88  137811.38  Not Provided  538909.28   \n",
       "2  212739.13   106088.18   16452.60  Not Provided  335279.91   \n",
       "3   77916.00    56120.71  198306.90  Not Provided  332343.61   \n",
       "4  134401.60     9737.00  182234.59  Not Provided  326373.19   \n",
       "\n",
       "   TotalPayBenefits  Year  \n",
       "0         567595.43  2011  \n",
       "1         538909.28  2011  \n",
       "2         335279.91  2011  \n",
       "3         332343.61  2011  \n",
       "4         326373.19  2011  "
      ]
     },
     "execution_count": 15,
     "metadata": {},
     "output_type": "execute_result"
    }
   ],
   "source": [
    "df.head()"
   ]
  },
  {
   "cell_type": "code",
   "execution_count": 5,
   "id": "20ed9956-ea35-428d-9d2b-0cb4dbca5b4c",
   "metadata": {},
   "outputs": [
    {
     "name": "stdout",
     "output_type": "stream",
     "text": [
      "Data imported successfully!\n",
      "(312882, 9)\n",
      "<class 'pandas.core.frame.DataFrame'>\n",
      "RangeIndex: 312882 entries, 0 to 312881\n",
      "Data columns (total 9 columns):\n",
      " #   Column            Non-Null Count   Dtype  \n",
      "---  ------            --------------   -----  \n",
      " 0   EmployeeName      312882 non-null  object \n",
      " 1   JobTitle          312882 non-null  object \n",
      " 2   BasePay           312882 non-null  object \n",
      " 3   OvertimePay       312882 non-null  object \n",
      " 4   OtherPay          312882 non-null  object \n",
      " 5   Benefits          312882 non-null  object \n",
      " 6   TotalPay          312882 non-null  float64\n",
      " 7   TotalPayBenefits  312882 non-null  float64\n",
      " 8   Year              312882 non-null  int64  \n",
      "dtypes: float64(2), int64(1), object(6)\n",
      "memory usage: 21.5+ MB\n",
      "None\n",
      "        EmployeeName                                        JobTitle  \\\n",
      "0     NATHANIEL FORD  GENERAL MANAGER-METROPOLITAN TRANSIT AUTHORITY   \n",
      "1       GARY JIMENEZ                 CAPTAIN III (POLICE DEPARTMENT)   \n",
      "2     ALBERT PARDINI                 CAPTAIN III (POLICE DEPARTMENT)   \n",
      "3  CHRISTOPHER CHONG            WIRE ROPE CABLE MAINTENANCE MECHANIC   \n",
      "4    PATRICK GARDNER    DEPUTY CHIEF OF DEPARTMENT,(FIRE DEPARTMENT)   \n",
      "\n",
      "     BasePay OvertimePay   OtherPay      Benefits   TotalPay  \\\n",
      "0  167411.18        0.00  400184.25  Not Provided  567595.43   \n",
      "1  155966.02   245131.88  137811.38  Not Provided  538909.28   \n",
      "2  212739.13   106088.18   16452.60  Not Provided  335279.91   \n",
      "3   77916.00    56120.71  198306.90  Not Provided  332343.61   \n",
      "4  134401.60     9737.00  182234.59  Not Provided  326373.19   \n",
      "\n",
      "   TotalPayBenefits  Year  \n",
      "0         567595.43  2011  \n",
      "1         538909.28  2011  \n",
      "2         335279.91  2011  \n",
      "3         332343.61  2011  \n",
      "4         326373.19  2011  \n"
     ]
    }
   ],
   "source": [
    "\n",
    "try:\n",
    "    df = pd.read_csv(file_path, low_memory=False)\n",
    "    print(\"Data imported successfully!\")\n",
    "    print(df.shape)\n",
    "    print(df.info())\n",
    "    print(df.head())  \n",
    "except Exception as e:\n",
    "    print(f\"Error importing data: {e}\")\n"
   ]
  },
  {
   "cell_type": "code",
   "execution_count": 16,
   "id": "e1f4f6de-c5bc-42f8-be3f-73347022dffb",
   "metadata": {},
   "outputs": [
    {
     "data": {
      "text/html": [
       "<div>\n",
       "<style scoped>\n",
       "    .dataframe tbody tr th:only-of-type {\n",
       "        vertical-align: middle;\n",
       "    }\n",
       "\n",
       "    .dataframe tbody tr th {\n",
       "        vertical-align: top;\n",
       "    }\n",
       "\n",
       "    .dataframe thead th {\n",
       "        text-align: right;\n",
       "    }\n",
       "</style>\n",
       "<table border=\"1\" class=\"dataframe\">\n",
       "  <thead>\n",
       "    <tr style=\"text-align: right;\">\n",
       "      <th></th>\n",
       "      <th>TotalPay</th>\n",
       "      <th>TotalPayBenefits</th>\n",
       "      <th>Year</th>\n",
       "    </tr>\n",
       "  </thead>\n",
       "  <tbody>\n",
       "    <tr>\n",
       "      <th>count</th>\n",
       "      <td>312882.000000</td>\n",
       "      <td>312882.000000</td>\n",
       "      <td>312882.000000</td>\n",
       "    </tr>\n",
       "    <tr>\n",
       "      <th>mean</th>\n",
       "      <td>78802.645788</td>\n",
       "      <td>100928.339777</td>\n",
       "      <td>2014.625303</td>\n",
       "    </tr>\n",
       "    <tr>\n",
       "      <th>std</th>\n",
       "      <td>53230.758542</td>\n",
       "      <td>66485.186495</td>\n",
       "      <td>2.290899</td>\n",
       "    </tr>\n",
       "    <tr>\n",
       "      <th>min</th>\n",
       "      <td>-618.130000</td>\n",
       "      <td>-3628.780000</td>\n",
       "      <td>2011.000000</td>\n",
       "    </tr>\n",
       "    <tr>\n",
       "      <th>25%</th>\n",
       "      <td>38803.000000</td>\n",
       "      <td>48955.072500</td>\n",
       "      <td>2013.000000</td>\n",
       "    </tr>\n",
       "    <tr>\n",
       "      <th>50%</th>\n",
       "      <td>74908.790000</td>\n",
       "      <td>100011.290000</td>\n",
       "      <td>2015.000000</td>\n",
       "    </tr>\n",
       "    <tr>\n",
       "      <th>75%</th>\n",
       "      <td>111386.897500</td>\n",
       "      <td>142376.300000</td>\n",
       "      <td>2017.000000</td>\n",
       "    </tr>\n",
       "    <tr>\n",
       "      <th>max</th>\n",
       "      <td>592394.340000</td>\n",
       "      <td>712802.360000</td>\n",
       "      <td>2018.000000</td>\n",
       "    </tr>\n",
       "  </tbody>\n",
       "</table>\n",
       "</div>"
      ],
      "text/plain": [
       "            TotalPay  TotalPayBenefits           Year\n",
       "count  312882.000000     312882.000000  312882.000000\n",
       "mean    78802.645788     100928.339777    2014.625303\n",
       "std     53230.758542      66485.186495       2.290899\n",
       "min      -618.130000      -3628.780000    2011.000000\n",
       "25%     38803.000000      48955.072500    2013.000000\n",
       "50%     74908.790000     100011.290000    2015.000000\n",
       "75%    111386.897500     142376.300000    2017.000000\n",
       "max    592394.340000     712802.360000    2018.000000"
      ]
     },
     "execution_count": 16,
     "metadata": {},
     "output_type": "execute_result"
    }
   ],
   "source": [
    "df.describe()"
   ]
  },
  {
   "cell_type": "code",
   "execution_count": null,
   "id": "ad2d765f-dee0-442c-ab84-1a206618d1d2",
   "metadata": {},
   "outputs": [],
   "source": []
  },
  {
   "cell_type": "markdown",
   "id": "14d14cad-cd33-4613-aee6-674052a052fd",
   "metadata": {},
   "source": [
    "## Creating a Function to Search for Employee Details"
   ]
  },
  {
   "cell_type": "code",
   "execution_count": 17,
   "id": "ea9e7947-53b9-4e95-bd20-239342103276",
   "metadata": {},
   "outputs": [
    {
     "name": "stdin",
     "output_type": "stream",
     "text": [
      "Enter the employee's name to search:  DAVID FRANKLIN\n"
     ]
    },
    {
     "name": "stdout",
     "output_type": "stream",
     "text": [
      "{'EmployeeName': 'DAVID FRANKLIN', 'JobTitle': 'BATTALION CHIEF, (FIRE DEPARTMENT)', 'BasePay': '174872.64', 'OvertimePay': '74050.30', 'OtherPay': '37424.11', 'Benefits': 'Not Provided', 'TotalPay': 286347.05, 'TotalPayBenefits': 286347.05, 'Year': 2011}\n"
     ]
    }
   ],
   "source": [
    "def get_employee_details(employee_name):\n",
    "   \n",
    "    try:\n",
    "        employee = df[df['EmployeeName'].str.lower() == employee_name.lower()]\n",
    "        if not employee.empty:\n",
    "            return employee.to_dict(orient='records')[0]\n",
    "        else:\n",
    "            return {\"Error\": \"Employee not found in the dataset.\"}\n",
    "    except Exception as e:\n",
    "        return {\"Error\": f\"An error occurred: {e}\"}\n",
    "\n",
    "employee_name = input(\"Enter the employee's name to search: \")\n",
    "result = get_employee_details(employee_name)\n",
    "print(result)"
   ]
  },
  {
   "cell_type": "markdown",
   "id": "fd662728-fb9a-4415-8572-7810597bcb68",
   "metadata": {},
   "source": [
    "## PROCESSING THE SALARY DATA WITH A DICTIONARY"
   ]
  },
  {
   "cell_type": "code",
   "execution_count": 18,
   "id": "c55f16b1-3578-44b4-a8aa-fa1be8f45e24",
   "metadata": {},
   "outputs": [
    {
     "name": "stdout",
     "output_type": "stream",
     "text": [
      "Error processing salary data: DataFrame index must be unique for orient='index'.\n",
      "Example entry from the dictionary:\n"
     ]
    }
   ],
   "source": [
    "def process_salary_data(df):\n",
    "    try:\n",
    "        salary_dict = df.set_index('EmployeeName').to_dict(orient='index')\n",
    "        print(\"Salary data processed successfully!\")\n",
    "        return salary_dict\n",
    "    except Exception as e:\n",
    "        print(f\"Error processing salary data: {e}\")\n",
    "        return {}\n",
    "\n",
    "salary_dict = process_salary_data(df)\n",
    "\n",
    "print(\"Example entry from the dictionary:\")\n",
    "for name, details in list(salary_dict.items())[:1]:  \n",
    "    print(f\"Name: {name}, Details: {details}\")"
   ]
  },
  {
   "cell_type": "code",
   "execution_count": 9,
   "id": "fabff679-7758-4ef7-a182-294f854ecc9f",
   "metadata": {},
   "outputs": [
    {
     "name": "stdout",
     "output_type": "stream",
     "text": [
      "Error processing salary data: Duplicate employee names found. Ensure all employee names are unique.\n",
      "Example entry from the dictionary:\n"
     ]
    }
   ],
   "source": [
    "def process_salary_data(df):\n",
    "    try:\n",
    "        if df['EmployeeName'].duplicated().any():\n",
    "            raise ValueError(\"Duplicate employee names found. Ensure all employee names are unique.\")\n",
    "        \n",
    "        salary_dict = df.set_index('EmployeeName').to_dict(orient='index')\n",
    "        print(\"Salary data processed successfully!\")\n",
    "        return salary_dict\n",
    "    except Exception as e:\n",
    "        print(f\"Error processing salary data: {e}\")\n",
    "        return {}\n",
    "\n",
    "salary_dict = process_salary_data(df)\n",
    "\n",
    "print(\"Example entry from the dictionary:\")\n",
    "for name, details in list(salary_dict.items())[:1]:  \n",
    "    print(f\"Name: {name}, Details: {details}\")\n"
   ]
  },
  {
   "cell_type": "code",
   "execution_count": 19,
   "id": "eef425ac-b232-40fe-968b-8f74a5c78f27",
   "metadata": {},
   "outputs": [
    {
     "name": "stdout",
     "output_type": "stream",
     "text": [
      "Salary data processed successfully!\n",
      "Example entry from the dictionary:\n",
      "Name: NATHANIEL FORD, Details: {'JobTitle': 'GENERAL MANAGER-METROPOLITAN TRANSIT AUTHORITY', 'BasePay': '167411.18', 'OvertimePay': '0.00', 'OtherPay': '400184.25', 'Benefits': 'Not Provided', 'TotalPay': 567595.43, 'TotalPayBenefits': 567595.43, 'Year': 2011}\n"
     ]
    }
   ],
   "source": [
    "def process_salary_data(df):\n",
    "    try:   \n",
    "        df = df.drop_duplicates(subset='EmployeeName', keep='first')\n",
    "        \n",
    "        salary_data_dict = df.set_index('EmployeeName').to_dict(orient='index')\n",
    "        print(\"Salary data processed successfully!\")\n",
    "        return salary_data_dict\n",
    "    except Exception as e:\n",
    "        print(f\"Error processing salary data: {e}\")\n",
    "        return {}\n",
    "\n",
    "salary_data_dict = process_salary_data(df)\n",
    "\n",
    "print(\"Example entry from the dictionary:\")\n",
    "for name, details in list(salary_data_dict.items())[:1]:  \n",
    "    print(f\"Name: {name}, Details: {details}\")\n"
   ]
  },
  {
   "cell_type": "markdown",
   "id": "95444e39-ba4c-48e4-9a07-00ee65d1f6ef",
   "metadata": {},
   "source": [
    "## EXPORTING EMPLOYEE DETAILS"
   ]
  },
  {
   "cell_type": "code",
   "execution_count": 24,
   "id": "4a49e126-93a2-4bf1-b9d4-68ef1ffb9ba4",
   "metadata": {},
   "outputs": [
    {
     "name": "stdout",
     "output_type": "stream",
     "text": [
      "Details of DAVID FRANKLIN exported and zipped successfully!\n"
     ]
    }
   ],
   "source": [
    "def export_employee_to_csv(employee_name):\n",
    "    try:\n",
    "        employee = get_employee_details(employee_name)\n",
    "        \n",
    "        if isinstance(employee, dict):\n",
    "            employee = pd.DataFrame([employee])\n",
    "        \n",
    "        if employee is None or employee.empty:\n",
    "            return\n",
    "        \n",
    "        export_path = \"Employee Profile\"\n",
    "        os.makedirs(export_path, exist_ok=True)\n",
    "        file_name = os.path.join(export_path, f\"{employee_name}_Details.csv\")\n",
    "        employee.to_csv(file_name, index=False)\n",
    "        \n",
    "        with zipfile.ZipFile(f\"{export_path}.zip\", \"w\") as zipf:\n",
    "            zipf.write(file_name, os.path.basename(file_name))\n",
    "        \n",
    "        print(f\"Details of {employee_name} exported and zipped successfully!\")\n",
    "    except Exception as e:\n",
    "        print(f\"An error occurred while exporting: {e}\")\n",
    "\n",
    "employee_name = \"DAVID FRANKLIN\" \n",
    "export_employee_to_csv(employee_name)"
   ]
  },
  {
   "cell_type": "code",
   "execution_count": null,
   "id": "7d609f19-ccea-467b-b7e2-c9d061454704",
   "metadata": {},
   "outputs": [],
   "source": []
  }
 ],
 "metadata": {
  "kernelspec": {
   "display_name": "Python 3 (ipykernel)",
   "language": "python",
   "name": "python3"
  },
  "language_info": {
   "codemirror_mode": {
    "name": "ipython",
    "version": 3
   },
   "file_extension": ".py",
   "mimetype": "text/x-python",
   "name": "python",
   "nbconvert_exporter": "python",
   "pygments_lexer": "ipython3",
   "version": "3.12.7"
  }
 },
 "nbformat": 4,
 "nbformat_minor": 5
}
